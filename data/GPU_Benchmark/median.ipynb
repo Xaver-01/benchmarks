{
 "cells": [
  {
   "cell_type": "code",
   "execution_count": 2,
   "id": "a83ef091",
   "metadata": {},
   "outputs": [
    {
     "name": "stdout",
     "output_type": "stream",
     "text": [
      "cpu2D.txt Total median time: 7.566954 s\n",
      "cpu3D.txt Total median time: 419.486749 s\n",
      "disks2D.txt Total median time: 0.296120 s\n",
      "disks3D.txt Total median time: 18.116835 s\n",
      "lines2D.txt Total median time: 0.281382 s\n",
      "trig3D.txt Total median time: 6.138209 s\n",
      "lvl2D.txt Total median time: 0.431793 s\n",
      "lvl3D.txt Total median time: 17.393257 s\n"
     ]
    }
   ],
   "source": [
    "import numpy as np\n",
    "import re\n",
    "\n",
    "\n",
    "def read_simulation_times(filename):\n",
    "  with open(filename, 'r') as f:\n",
    "    data = f.read().strip()\n",
    "\n",
    "  runs = re.split(r'\\s*Sticking;Meshing;Tracing;Postprocessing;Advection;NumRays\\s*\\n', data)\n",
    "  runs = [r.strip() for r in runs if r.strip()]\n",
    "\n",
    "  total_times = []\n",
    "\n",
    "  for run in runs:\n",
    "    arr = np.loadtxt(run.splitlines(), delimiter=';', usecols=(1, 2, 3, 4))\n",
    "    total_time = np.sum(arr)\n",
    "    total_times.append(total_time)\n",
    "  return np.array(total_times)\n",
    "\n",
    "files = [\"cpu2D.txt\", \"cpu3D.txt\", \"disks2D.txt\", \"disks3D.txt\", \"lines2D.txt\", \"trig3D.txt\", \"lvl2D.txt\", \"lvl3D.txt\"]\n",
    "for file in files:\n",
    "    times = read_simulation_times(file)\n",
    "    # for i, t in enumerate(times, 1):\n",
    "    #   print(f\"Run {i}: total time = {t:.2f}\")\n",
    "    print(f\"{file} Total median time: {1e-9 * np.median(times):.6f} s\")"
   ]
  }
 ],
 "metadata": {
  "kernelspec": {
   "display_name": "Python 3",
   "language": "python",
   "name": "python3"
  },
  "language_info": {
   "codemirror_mode": {
    "name": "ipython",
    "version": 3
   },
   "file_extension": ".py",
   "mimetype": "text/x-python",
   "name": "python",
   "nbconvert_exporter": "python",
   "pygments_lexer": "ipython3",
   "version": "3.13.9"
  }
 },
 "nbformat": 4,
 "nbformat_minor": 5
}
